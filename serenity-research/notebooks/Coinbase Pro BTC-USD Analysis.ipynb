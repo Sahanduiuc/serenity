{
 "cells": [
  {
   "cell_type": "code",
   "execution_count": null,
   "metadata": {
    "ExecuteTime": {
     "end_time": "2019-11-18T02:02:12.756183Z",
     "start_time": "2019-11-18T02:02:12.745417Z"
    }
   },
   "outputs": [],
   "source": [
    "# set up our local code path\n",
    "import sys\n",
    "sys.path.append('/home/serenity/dev/shadows/serenity/serenity-mdrecorder/src')\n",
    "\n",
    "# standard imports\n",
    "import pandas as pd\n",
    "import plotly.graph_objects as go\n",
    "\n",
    "from cloudwall.serenity.mdrecorder.tickstore import LocalTickstore\n",
    "from datetime import datetime as dt\n",
    "from pathlib import Path\n",
    "from plotly.subplots import make_subplots\n",
    "\n",
    "# set up Cufflinks\n",
    "import cufflinks as cf\n",
    "cf.set_config_file(theme='ggplot',sharing='public',offline=True)"
   ]
  },
  {
   "cell_type": "code",
   "execution_count": null,
   "metadata": {
    "ExecuteTime": {
     "end_time": "2019-11-07T00:33:41.459844Z",
     "start_time": "2019-11-07T00:33:41.358060Z"
    }
   },
   "outputs": [],
   "source": [
    "# Connect to Behemoth\n",
    "tickstore = LocalTickstore(Path('/behemoth/db/COINBASE_PRO_ONE_MIN_BINS'), 'time')\n"
   ]
  },
  {
   "cell_type": "code",
   "execution_count": null,
   "metadata": {
    "ExecuteTime": {
     "end_time": "2019-11-07T00:33:49.747734Z",
     "start_time": "2019-11-07T00:33:44.208742Z"
    },
    "scrolled": true
   },
   "outputs": [],
   "source": [
    "df = tickstore.select('BTC-USD', start=dt(2015, 7, 20), end=dt(2019, 12, 31))"
   ]
  },
  {
   "cell_type": "code",
   "execution_count": null,
   "metadata": {
    "ExecuteTime": {
     "end_time": "2019-11-07T00:33:50.829729Z",
     "start_time": "2019-11-07T00:33:50.802685Z"
    }
   },
   "outputs": [],
   "source": [
    "df['volume'].max()"
   ]
  },
  {
   "cell_type": "code",
   "execution_count": null,
   "metadata": {
    "ExecuteTime": {
     "end_time": "2019-11-07T00:33:52.288507Z",
     "start_time": "2019-11-07T00:33:51.997479Z"
    }
   },
   "outputs": [],
   "source": [
    "hist_1d = df.resample('1D').agg({'open': 'first', \n",
    "                                 'high': 'max', \n",
    "                                 'low': 'min', \n",
    "                                 'close': 'last',\n",
    "                                 'volume': 'sum'\n",
    "                                 })\n",
    "hist_1d['close'].iplot()"
   ]
  },
  {
   "cell_type": "code",
   "execution_count": null,
   "metadata": {
    "ExecuteTime": {
     "end_time": "2019-11-07T00:06:30.872769Z",
     "start_time": "2019-11-07T00:06:30.808Z"
    },
    "code_folding": []
   },
   "outputs": [],
   "source": [
    "hist_1h = df.resample('1H').agg({'open': 'first', \n",
    "                                 'high': 'max', \n",
    "                                 'low': 'min', \n",
    "                                 'close': 'last',\n",
    "                                 'volume': 'sum'\n",
    "                                 })\n",
    "\n",
    "hist_1h['hour_of_day'] = hist_1h.index.hour\n",
    "hist_1h['month_of_year'] = hist_1h.index.month\n",
    "hist_1h['pct_change'] = hist_1h['close'].pct_change(1)\n",
    "hist_1h['volatility'] = hist_1h['pct_change'].rolling('1D').std()*(252**0.5)\n",
    "\n",
    "hist_1h.head()"
   ]
  },
  {
   "cell_type": "code",
   "execution_count": null,
   "metadata": {
    "ExecuteTime": {
     "end_time": "2019-11-07T00:06:30.873288Z",
     "start_time": "2019-11-07T00:06:30.809Z"
    }
   },
   "outputs": [],
   "source": [
    "hist_1h['volume'].iplot(kind='histogram')\n",
    "hist_1h['pct_change'].iplot(kind='histogram')\n",
    "hist_1h.iplot(kind='bubble', size='volume', x='month_of_year', y='hour_of_day')"
   ]
  },
  {
   "cell_type": "code",
   "execution_count": null,
   "metadata": {
    "ExecuteTime": {
     "end_time": "2019-11-07T00:06:30.873981Z",
     "start_time": "2019-11-07T00:06:30.810Z"
    }
   },
   "outputs": [],
   "source": [
    "hist_1h.iplot(kind='heatmap', colorscale='Blues', x='hour_of_day', y='pct_change', z='volatility')"
   ]
  },
  {
   "cell_type": "code",
   "execution_count": null,
   "metadata": {
    "ExecuteTime": {
     "end_time": "2019-11-07T00:06:30.874543Z",
     "start_time": "2019-11-07T00:06:30.811Z"
    }
   },
   "outputs": [],
   "source": [
    "hist_1h['volatility'].iplot()\n",
    "hist_1h.iplot(kind='bubble', size='volume', x='hour_of_day', y='volatility')"
   ]
  },
  {
   "cell_type": "code",
   "execution_count": null,
   "metadata": {
    "ExecuteTime": {
     "end_time": "2019-11-27T22:39:01.846440Z",
     "start_time": "2019-11-27T22:39:01.800748Z"
    }
   },
   "outputs": [],
   "source": [
    "trades_tickstore = LocalTickstore(Path('/behemoth/db/COINBASE_PRO_TRADES'), 'time')\n",
    "cbp_trades = trades_tickstore.select('BTC-USD', start=dt(2019, 11, 26), end=dt(2019, 11, 30))\n"
   ]
  },
  {
   "cell_type": "code",
   "execution_count": null,
   "metadata": {
    "ExecuteTime": {
     "end_time": "2019-11-27T22:39:02.363416Z",
     "start_time": "2019-11-27T22:39:02.355488Z"
    }
   },
   "outputs": [],
   "source": [
    "cbp_trades.head()"
   ]
  },
  {
   "cell_type": "code",
   "execution_count": null,
   "metadata": {
    "ExecuteTime": {
     "end_time": "2019-11-27T23:08:20.505849Z",
     "start_time": "2019-11-27T23:08:20.500238Z"
    },
    "code_folding": [],
    "scrolled": true
   },
   "outputs": [],
   "source": [
    "def plot_trades(trades, title: str):\n",
    "    # Create figure with secondary y-axis\n",
    "    fig = make_subplots(specs=[[{\"secondary_y\": True}]])\n",
    "\n",
    "    # Add traces\n",
    "    fig.add_trace(\n",
    "        go.Scatter(x=trades.index, y=trades['price'], name=\"price ($)\"),\n",
    "        secondary_y=False,\n",
    "    )\n",
    "\n",
    "    fig.add_trace(\n",
    "        go.Scatter(x=trades.index, y=trades['size'], name=\"size (BTC)\"),\n",
    "        secondary_y=True,\n",
    "    )\n",
    "\n",
    "    # Add figure title\n",
    "    fig.update_layout(\n",
    "        title_text=title\n",
    "    )\n",
    "\n",
    "    fig.show()\n",
    "    \n",
    "def plot_ohlcv(ohlcv, title: str):\n",
    "    # Create figure with secondary y-axis\n",
    "    fig = make_subplots(specs=[[{\"secondary_y\": True}]])\n",
    "\n",
    "    # Add traces\n",
    "    fig.add_trace(\n",
    "        go.Ohlc(x=ohlcv.index, open=ohlcv['open'], low=ohlcv['low'], high=ohlcv['high'], close=ohlcv['close'], name=\"price ($)\"),\n",
    "        secondary_y=False,\n",
    "    )\n",
    "\n",
    "    fig.add_trace(\n",
    "        go.Scatter(x=ohlcv.index, y=ohlcv['size'], name=\"size (BTC)\"),\n",
    "        secondary_y=True,\n",
    "    )\n",
    "\n",
    "    # Add figure title\n",
    "    fig.update_layout(\n",
    "        title_text=title\n",
    "    )\n",
    "\n",
    "    fig.show()\n",
    "    \n",
    "    \n",
    "def bin_trades(trades, bin_size='1min'):\n",
    "    price = trades['price'].resample(bin_size).ohlc().bfill()\n",
    "    vol = trades['size'].resample(bin_size).sum().bfill()\n",
    "    vol.columns = pd.MultiIndex.from_tuples([('size', 'sum')])\n",
    "    return pd.concat([price, vol], axis=1)\n"
   ]
  },
  {
   "cell_type": "code",
   "execution_count": null,
   "metadata": {
    "ExecuteTime": {
     "end_time": "2019-11-27T23:39:40.035396Z",
     "start_time": "2019-11-27T23:39:39.936019Z"
    }
   },
   "outputs": [],
   "source": [
    "binance_tickstore = LocalTickstore(Path('/behemoth/db/BINANCE_TRADES'), 'time')\n",
    "binance_trades = binance_tickstore.select('BTC-USDT', start=dt(2019, 11, 26), end=dt(2019, 11, 27))"
   ]
  },
  {
   "cell_type": "code",
   "execution_count": null,
   "metadata": {
    "ExecuteTime": {
     "end_time": "2019-11-27T23:39:41.079919Z",
     "start_time": "2019-11-27T23:39:41.073951Z"
    }
   },
   "outputs": [],
   "source": [
    "binance_trades.head()"
   ]
  },
  {
   "cell_type": "code",
   "execution_count": null,
   "metadata": {
    "ExecuteTime": {
     "end_time": "2019-11-27T23:39:46.667976Z",
     "start_time": "2019-11-27T23:39:46.198449Z"
    }
   },
   "outputs": [],
   "source": [
    "cbp_1min_bins = bin_trades(cbp_trades)\n",
    "binance_1min_bins = bin_trades(binance_trades)\n",
    "\n",
    "plot_ohlcv(cbp_1min_bins, \"BTC-USD price & volumes (Coinbase Pro, 1 min bins)\")\n",
    "plot_ohlcv(binance_1min_bins, \"BTC-USDT price & volumes (Binance, 1 min bins)\")"
   ]
  },
  {
   "cell_type": "code",
   "execution_count": null,
   "metadata": {
    "ExecuteTime": {
     "start_time": "2019-11-28T02:47:52.079Z"
    }
   },
   "outputs": [],
   "source": [
    "cbp_bins = bin_trades(cbp_trades, '10ms')\n",
    "binance_bins = bin_trades(binance_trades, '10ms')\n",
    "\n",
    "corr = cbp_bins['close'].corr(binance_bins['close'])\n",
    "\n",
    "merged_prices = pd.merge_asof(cbp_bins[['close']], binance_bins[['close']], on='time')\n",
    "\n",
    "print(corr)\n",
    "\n",
    "# Create figure with secondary y-axis\n",
    "fig = go.Figure()\n",
    "\n",
    "# Add traces\n",
    "fig.add_trace(\n",
    "    go.Scatter(x=merged_prices.index, y=merged_prices['close_x'], name=\"Coinbase Pro\")\n",
    ")\n",
    "\n",
    "fig.add_trace(\n",
    "    go.Scatter(x=merged_prices.index, y=merged_prices['close_y'], name=\"Binance\")\n",
    ")\n",
    "\n",
    "# Add figure title\n",
    "fig.update_layout(\n",
    "    title_text=\"Tracing Binance & Coinbase Pro prices\"\n",
    ")\n",
    "\n",
    "fig.show()"
   ]
  },
  {
   "cell_type": "code",
   "execution_count": null,
   "metadata": {
    "ExecuteTime": {
     "end_time": "2019-11-28T00:38:57.853008Z",
     "start_time": "2019-11-28T00:38:57.725648Z"
    }
   },
   "outputs": [],
   "source": [
    "# https://towardsdatascience.com/four-ways-to-quantify-synchrony-between-time-series-data-b99136c4a9c9\n",
    "import scipy.stats as stats\n",
    "\n",
    "r, p = stats.pearsonr(merged_prices['close_x'], merged_prices['close_y'])\n",
    "print(r, p)"
   ]
  },
  {
   "cell_type": "code",
   "execution_count": null,
   "metadata": {},
   "outputs": [],
   "source": []
  }
 ],
 "metadata": {
  "kernelspec": {
   "display_name": "Python 3",
   "language": "python",
   "name": "python3"
  },
  "language_info": {
   "codemirror_mode": {
    "name": "ipython",
    "version": 3
   },
   "file_extension": ".py",
   "mimetype": "text/x-python",
   "name": "python",
   "nbconvert_exporter": "python",
   "pygments_lexer": "ipython3",
   "version": "3.7.3"
  },
  "toc": {
   "base_numbering": 1,
   "nav_menu": {},
   "number_sections": false,
   "sideBar": false,
   "skip_h1_title": false,
   "title_cell": "Table of Contents",
   "title_sidebar": "Contents",
   "toc_cell": false,
   "toc_position": {},
   "toc_section_display": false,
   "toc_window_display": false
  }
 },
 "nbformat": 4,
 "nbformat_minor": 4
}
