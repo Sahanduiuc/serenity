{
 "cells": [
  {
   "cell_type": "code",
   "execution_count": null,
   "metadata": {
    "ExecuteTime": {
     "end_time": "2019-11-03T22:24:31.166386Z",
     "start_time": "2019-11-03T22:24:31.158241Z"
    }
   },
   "outputs": [],
   "source": [
    "import numpy as np\n",
    "import pandas as pd\n",
    "\n",
    "from beakerx import *\n",
    "from beakerx.object import beakerx"
   ]
  },
  {
   "cell_type": "code",
   "execution_count": null,
   "metadata": {
    "ExecuteTime": {
     "end_time": "2019-11-03T22:24:32.042074Z",
     "start_time": "2019-11-03T22:24:32.027900Z"
    }
   },
   "outputs": [],
   "source": [
    "np.random.seed(1)\n",
    "\n",
    "rows,cols = 5,3\n",
    "data = np.random.rand(rows,cols) # You can use other random functions to generate values with constraints\n",
    "tidx = pd.date_range('2019-01-01', periods=rows, freq='MS') # freq='MS'set the frequency of date in months and start from day 1. You can use 'T' for minutes and so on\n",
    "df = pd.DataFrame(data, columns=['a','b','c'], index=tidx)"
   ]
  },
  {
   "cell_type": "code",
   "execution_count": null,
   "metadata": {
    "ExecuteTime": {
     "end_time": "2019-11-03T22:24:41.250092Z",
     "start_time": "2019-11-03T22:24:41.211787Z"
    }
   },
   "outputs": [],
   "source": [
    "table = TableDisplay(df)\n",
    "table.setAlignmentProviderForColumn('side', TableDisplayAlignmentProvider.CENTER_ALIGNMENT)\n",
    "table.setRendererForColumn(\"size\", TableDisplayCellRenderer.getDataBarsRenderer(False))\n",
    "table.setRendererForType(ColumnType.Double, TableDisplayCellRenderer.getDataBarsRenderer(True))\n",
    "table.setColumnVisible(\"price\", False)\n",
    "table.setColumnVisible(\"fee\", False)\n",
    "table.setColumnVisible(\"total\", False)\n",
    "table\n"
   ]
  },
  {
   "cell_type": "code",
   "execution_count": null,
   "metadata": {
    "ExecuteTime": {
     "end_time": "2019-11-03T22:24:47.033694Z",
     "start_time": "2019-11-03T22:24:47.024557Z"
    }
   },
   "outputs": [],
   "source": [
    "import ipywidgets as widgets\n",
    "from ipywidgets import interact, interact_manual"
   ]
  },
  {
   "cell_type": "code",
   "execution_count": null,
   "metadata": {
    "ExecuteTime": {
     "end_time": "2019-11-03T22:25:20.199212Z",
     "start_time": "2019-11-03T22:25:20.168931Z"
    }
   },
   "outputs": [],
   "source": [
    "@interact_manual\n",
    "def show_articles_more_than(column=['a', 'b'], \n",
    "                            x=(10, 20000, 10)):\n",
    "    return df.loc[df[column] > x]"
   ]
  },
  {
   "cell_type": "code",
   "execution_count": null,
   "metadata": {
    "ExecuteTime": {
     "end_time": "2019-11-03T22:25:37.634212Z",
     "start_time": "2019-11-03T22:25:37.244507Z"
    }
   },
   "outputs": [],
   "source": [
    "import pandas as pd\n",
    "import cufflinks as cf\n",
    "import numpy as np\n",
    "from IPython.display import display,HTML"
   ]
  },
  {
   "cell_type": "code",
   "execution_count": null,
   "metadata": {
    "ExecuteTime": {
     "end_time": "2019-11-03T22:25:48.796643Z",
     "start_time": "2019-11-03T22:25:48.645862Z"
    }
   },
   "outputs": [],
   "source": [
    "cf.set_config_file(theme='ggplot',sharing='public',offline=True)\n",
    "\n",
    "# Generating 4 timeseries \n",
    "df=cf.datagen.lines(4,1000)\n",
    "df.iplot()"
   ]
  },
  {
   "cell_type": "code",
   "execution_count": null,
   "metadata": {
    "ExecuteTime": {
     "end_time": "2019-11-03T22:26:04.912023Z",
     "start_time": "2019-11-03T22:26:04.453159Z"
    }
   },
   "outputs": [],
   "source": [
    "df=cf.datagen.lines(4)\n",
    "df.iplot(subplots=True,shape=(4,1),shared_xaxes=True,vertical_spacing=.02,fill=True)"
   ]
  },
  {
   "cell_type": "code",
   "execution_count": null,
   "metadata": {},
   "outputs": [],
   "source": []
  }
 ],
 "metadata": {
  "kernelspec": {
   "display_name": "Python 3",
   "language": "python",
   "name": "python3"
  },
  "language_info": {
   "codemirror_mode": {
    "name": "ipython",
    "version": 3
   },
   "file_extension": ".py",
   "mimetype": "text/x-python",
   "name": "python",
   "nbconvert_exporter": "python",
   "pygments_lexer": "ipython3",
   "version": "3.7.3"
  },
  "toc": {
   "base_numbering": 1,
   "nav_menu": {},
   "number_sections": false,
   "sideBar": false,
   "skip_h1_title": false,
   "title_cell": "Table of Contents",
   "title_sidebar": "Contents",
   "toc_cell": false,
   "toc_position": {},
   "toc_section_display": false,
   "toc_window_display": false
  }
 },
 "nbformat": 4,
 "nbformat_minor": 4
}
