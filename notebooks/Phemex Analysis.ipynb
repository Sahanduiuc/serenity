{
 "cells": [
  {
   "cell_type": "code",
   "execution_count": null,
   "metadata": {
    "ExecuteTime": {
     "end_time": "2019-11-18T02:02:12.756183Z",
     "start_time": "2019-11-18T02:02:12.745417Z"
    }
   },
   "outputs": [],
   "source": [
    "# set up our local code path\n",
    "import sys\n",
    "sys.path.append('/home/serenity/dev/shadows/serenity/serenity-mdrecorder/src')\n",
    "\n",
    "# standard imports\n",
    "import pandas as pd\n",
    "import plotly.graph_objects as go\n",
    "\n",
    "from cloudwall.serenity.mdrecorder.tickstore import LocalTickstore\n",
    "from datetime import datetime as dt\n",
    "from pathlib import Path\n",
    "from plotly.subplots import make_subplots\n",
    "\n",
    "# set up Cufflinks\n",
    "import cufflinks as cf\n",
    "cf.set_config_file(theme='ggplot',sharing='public',offline=True)"
   ]
  },
  {
   "cell_type": "code",
   "execution_count": null,
   "metadata": {
    "ExecuteTime": {
     "end_time": "2019-11-07T00:33:41.459844Z",
     "start_time": "2019-11-07T00:33:41.358060Z"
    }
   },
   "outputs": [],
   "source": [
    "# Connect to Behemoth\n",
    "phemex_tickstore = LocalTickstore(Path('/behemoth/db/PHEMEX_TRADES'), 'time')\n"
   ]
  },
  {
   "cell_type": "code",
   "execution_count": null,
   "metadata": {
    "ExecuteTime": {
     "end_time": "2019-11-07T00:33:49.747734Z",
     "start_time": "2019-11-07T00:33:44.208742Z"
    },
    "scrolled": true
   },
   "outputs": [],
   "source": [
    "phemex_trades = phemex_tickstore.select('BTCUSD', start=dt(2020, 4, 1), end=dt(2020, 12, 31))"
   ]
  },
  {
   "cell_type": "code",
   "execution_count": null,
   "metadata": {
    "ExecuteTime": {
     "end_time": "2019-11-07T00:33:50.829729Z",
     "start_time": "2019-11-07T00:33:50.802685Z"
    }
   },
   "outputs": [],
   "source": [
    "phemex_trades['price'] = phemex_trades['price'] / 10000\n",
    "phemex_trades.head()"
   ]
  },
  {
   "cell_type": "code",
   "execution_count": null,
   "metadata": {},
   "outputs": [],
   "source": [
    "cbp_tickstore = LocalTickstore(Path('/behemoth/db/COINBASE_PRO_TRADES'), 'time')\n",
    "cbp_trades = cbp_tickstore.select('BTC-USD', start=dt(2020, 4, 1), end=dt(2020, 12, 31))"
   ]
  },
  {
   "cell_type": "code",
   "execution_count": null,
   "metadata": {},
   "outputs": [],
   "source": [
    "binance_tickstore = LocalTickstore(Path('/behemoth/db/BINANCE_TRADES'), 'time')\n",
    "binance_trades = binance_tickstore.select('BTC-USDT', start=dt(2020, 4, 1), end=dt(2020, 12, 31))"
   ]
  },
  {
   "cell_type": "code",
   "execution_count": null,
   "metadata": {},
   "outputs": [],
   "source": [
    "cbp_5m = cbp_trades['price'].resample('5Min').ohlc()"
   ]
  },
  {
   "cell_type": "code",
   "execution_count": null,
   "metadata": {},
   "outputs": [],
   "source": [
    "binance_5m = binance_trades['price'].resample('5Min').ohlc()"
   ]
  },
  {
   "cell_type": "code",
   "execution_count": null,
   "metadata": {},
   "outputs": [],
   "source": [
    "phemex_5m = phemex_trades['price'].resample('5Min').ohlc()"
   ]
  },
  {
   "cell_type": "code",
   "execution_count": null,
   "metadata": {},
   "outputs": [],
   "source": [
    "fig = go.Figure()\n",
    "\n",
    "# Add traces\n",
    "fig.add_trace(\n",
    "    go.Scatter(x=phemex_5m.index, y=phemex_5m['close'], name=\"Phemex\")\n",
    ")\n",
    "\n",
    "\n",
    "fig.add_trace(\n",
    "    go.Scatter(x=cbp_5m.index, y=cbp_5m['close'], name=\"Coinbase Pro\")\n",
    ")\n",
    "\n",
    "fig.add_trace(\n",
    "    go.Scatter(x=binance_5m.index, y=binance_5m['close'], name=\"Binance\")\n",
    ")\n",
    "\n",
    "# Add figure title\n",
    "fig.update_layout(\n",
    "    title_text=\"Phemex futures vs. Coinbase spot & USDT (5m)\"\n",
    ")\n",
    "\n",
    "fig.show()"
   ]
  },
  {
   "cell_type": "code",
   "execution_count": null,
   "metadata": {},
   "outputs": [],
   "source": [
    "join_5m = phemex_5m.join(cbp_5m, on='time', how='left', lsuffix=\"_phemex\", rsuffix=\"_cbp\")\n",
    "join_5m = join_5m.join(binance_5m, on='time', how='left')\n",
    "join_5m"
   ]
  },
  {
   "cell_type": "code",
   "execution_count": null,
   "metadata": {},
   "outputs": [],
   "source": [
    "# compute the basis vs. BTC-USD and BTC-USDT (Tether) spot prices\n",
    "join_5m['basis_btcusd'] = join_5m['close_cbp'] - join_5m['close_phemex']\n",
    "join_5m['basis_btcusdt'] = join_5m['close'] - join_5m['close_phemex']"
   ]
  },
  {
   "cell_type": "code",
   "execution_count": null,
   "metadata": {},
   "outputs": [],
   "source": [
    "# Create figure with secondary y-axis\n",
    "fig = make_subplots(specs=[[{\"secondary_y\": True}]])\n",
    "\n",
    "# Add traces\n",
    "fig.add_trace(\n",
    "    go.Scatter(x=join_5m.index, y=join_5m['close_phemex'], name=\"Phemex\")\n",
    ")\n",
    "\n",
    "fig.add_trace(\n",
    "    go.Scatter(x=join_5m.index, y=join_5m['basis_btcusd'], name=\"Basis (BTC-USD)\"), secondary_y=True\n",
    ")\n",
    "\n",
    "fig.add_trace(\n",
    "    go.Scatter(x=join_5m.index, y=join_5m['basis_btcusdt'], name=\"Basis (BTC-USDT)\"), secondary_y=True\n",
    ")\n",
    "\n",
    "# Add figure title\n",
    "fig.update_layout(\n",
    "    title_text=\"Phemex futures vs. basis (5m)\"\n",
    ")\n",
    "\n",
    "fig.show()"
   ]
  },
  {
   "cell_type": "code",
   "execution_count": null,
   "metadata": {},
   "outputs": [],
   "source": [
    "phemex_volume_5m = phemex_trades.resample('5Min').agg({'size': 'sum'})"
   ]
  },
  {
   "cell_type": "code",
   "execution_count": null,
   "metadata": {},
   "outputs": [],
   "source": [
    "# Create figure with secondary y-axis\n",
    "fig = make_subplots(specs=[[{\"secondary_y\": True}]])\n",
    "\n",
    "# Add traces\n",
    "fig.add_trace(\n",
    "    go.Scatter(x=phemex_5m.index, y=join_5m['close'], name=\"Price\")\n",
    ")\n",
    "\n",
    "fig.add_trace(\n",
    "    go.Bar(x=phemex_volume_5m.index, y=phemex_volume_5m['size'], name=\"Volume\"), secondary_y=True\n",
    ")\n",
    "\n",
    "# Add figure title\n",
    "fig.update_layout(\n",
    "    title_text=\"Phemex futures vs. volumes (5m)\"\n",
    ")\n",
    "\n",
    "fig.show()"
   ]
  },
  {
   "cell_type": "code",
   "execution_count": null,
   "metadata": {},
   "outputs": [],
   "source": []
  }
 ],
 "metadata": {
  "kernelspec": {
   "display_name": "Python 3",
   "language": "python",
   "name": "python3"
  },
  "language_info": {
   "codemirror_mode": {
    "name": "ipython",
    "version": 3
   },
   "file_extension": ".py",
   "mimetype": "text/x-python",
   "name": "python",
   "nbconvert_exporter": "python",
   "pygments_lexer": "ipython3",
   "version": "3.8.2"
  },
  "toc": {
   "base_numbering": 1,
   "nav_menu": {},
   "number_sections": false,
   "sideBar": false,
   "skip_h1_title": false,
   "title_cell": "Table of Contents",
   "title_sidebar": "Contents",
   "toc_cell": false,
   "toc_position": {},
   "toc_section_display": false,
   "toc_window_display": false
  }
 },
 "nbformat": 4,
 "nbformat_minor": 4
}
